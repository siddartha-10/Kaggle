{
 "cells": [
  {
   "cell_type": "code",
   "execution_count": 1,
   "id": "97f8b052",
   "metadata": {},
   "outputs": [],
   "source": [
    "import pandas as pd\n",
    "import numpy as np\n",
    "from sklearn.model_selection import train_test_split\n",
    "from sklearn.linear_model import LogisticRegression\n",
    "from sklearn.feature_extraction.text import CountVectorizer\n",
    "from sklearn.metrics import accuracy_score, classification_report\n",
    "import matplotlib.pyplot as plt"
   ]
  },
  {
   "cell_type": "code",
   "execution_count": 2,
   "id": "3e220baa",
   "metadata": {},
   "outputs": [],
   "source": [
    "df1 = pd.read_csv('train_essays.csv')\n",
    "df2 = pd.read_csv('train_prompts.csv')\n",
    "df3 = pd.read_csv('test_essays.csv')"
   ]
  },
  {
   "cell_type": "code",
   "execution_count": 6,
   "id": "b40559f1",
   "metadata": {},
   "outputs": [
    {
     "name": "stdout",
     "output_type": "stream",
     "text": [
      "Index(['id', 'prompt_id', 'text', 'generated'], dtype='object')\n",
      "Index(['prompt_id', 'prompt_name', 'instructions', 'source_text'], dtype='object')\n",
      "Index(['id', 'prompt_id', 'text'], dtype='object')\n"
     ]
    }
   ],
   "source": [
    "print(df1.columns)\n",
    "print(df2.columns)\n",
    "print(df3.columns)"
   ]
  },
  {
   "cell_type": "code",
   "execution_count": 7,
   "id": "bc0e7033",
   "metadata": {},
   "outputs": [],
   "source": [
    "\n",
    "# To build a model for identifying which essay was written by middle and high school students and which was written using a large language model (LLM), you can follow these steps:\n",
    "\n",
    "# Data Preprocessing:\n",
    "\n",
    "# Merge the train_essays and train_prompts datasets based on the common prompt_id to create a single training dataset.\n",
    "# Prepare the data by handling missing values, text cleaning, and any other necessary preprocessing steps.\n",
    "# Feature Engineering:\n",
    "\n",
    "# Extract relevant features from the essay text and prompt instructions that can be used for classification. You can consider techniques like TF-IDF, Word Embeddings, or other NLP feature extraction methods.\n",
    "# Model Selection:\n",
    "\n",
    "# Choose a suitable machine learning model for classification. Logistic Regression, Random Forest, or Support Vector Machine can be good starting points.\n",
    "# You may also explore more advanced models such as neural networks (e.g., LSTM or BERT-based models) if you have a large dataset.\n",
    "# Training and Evaluation:\n",
    "\n",
    "# Split your training data into training and validation sets for model training and hyperparameter tuning.\n",
    "# Train the selected model on the training data.\n",
    "# Evaluate the model's performance on the validation set using appropriate evaluation metrics (e.g., accuracy, precision, recall, F1-score).\n",
    "# Hyperparameter Tuning:\n",
    "\n",
    "# Perform hyperparameter tuning to optimize the model's performance. You can use techniques like grid search or random search.\n",
    "# Test Data Prediction:\n",
    "\n",
    "# Load the test_essays.csv dataset.\n",
    "# Preprocess the test data using the same preprocessing steps applied to the training data.\n",
    "# Use the trained model to predict the labels for the test essays (0 for students, 1 for LLM-generated).\n",
    "# Submission:\n",
    "\n",
    "# Prepare a submission file in the required format (e.g., a CSV file with id and generated columns).\n",
    "# Submit your predictions to the Kaggle competition.\n"
   ]
  },
  {
   "cell_type": "code",
   "execution_count": 9,
   "id": "d578d4e3",
   "metadata": {},
   "outputs": [],
   "source": [
    "train_data = pd.merge(df1,df2,how='inner',on='prompt_id')"
   ]
  },
  {
   "cell_type": "code",
   "execution_count": 10,
   "id": "743241d2",
   "metadata": {
    "scrolled": true
   },
   "outputs": [
    {
     "data": {
      "text/html": [
       "<div>\n",
       "<style scoped>\n",
       "    .dataframe tbody tr th:only-of-type {\n",
       "        vertical-align: middle;\n",
       "    }\n",
       "\n",
       "    .dataframe tbody tr th {\n",
       "        vertical-align: top;\n",
       "    }\n",
       "\n",
       "    .dataframe thead th {\n",
       "        text-align: right;\n",
       "    }\n",
       "</style>\n",
       "<table border=\"1\" class=\"dataframe\">\n",
       "  <thead>\n",
       "    <tr style=\"text-align: right;\">\n",
       "      <th></th>\n",
       "      <th>id</th>\n",
       "      <th>prompt_id</th>\n",
       "      <th>text</th>\n",
       "      <th>generated</th>\n",
       "      <th>prompt_name</th>\n",
       "      <th>instructions</th>\n",
       "      <th>source_text</th>\n",
       "    </tr>\n",
       "  </thead>\n",
       "  <tbody>\n",
       "    <tr>\n",
       "      <th>0</th>\n",
       "      <td>0059830c</td>\n",
       "      <td>0</td>\n",
       "      <td>Cars. Cars have been around since they became ...</td>\n",
       "      <td>0</td>\n",
       "      <td>Car-free cities</td>\n",
       "      <td>Write an explanatory essay to inform fellow ci...</td>\n",
       "      <td># In German Suburb, Life Goes On Without Cars ...</td>\n",
       "    </tr>\n",
       "    <tr>\n",
       "      <th>1</th>\n",
       "      <td>005db917</td>\n",
       "      <td>0</td>\n",
       "      <td>Transportation is a large necessity in most co...</td>\n",
       "      <td>0</td>\n",
       "      <td>Car-free cities</td>\n",
       "      <td>Write an explanatory essay to inform fellow ci...</td>\n",
       "      <td># In German Suburb, Life Goes On Without Cars ...</td>\n",
       "    </tr>\n",
       "    <tr>\n",
       "      <th>2</th>\n",
       "      <td>008f63e3</td>\n",
       "      <td>0</td>\n",
       "      <td>\"America's love affair with it's vehicles seem...</td>\n",
       "      <td>0</td>\n",
       "      <td>Car-free cities</td>\n",
       "      <td>Write an explanatory essay to inform fellow ci...</td>\n",
       "      <td># In German Suburb, Life Goes On Without Cars ...</td>\n",
       "    </tr>\n",
       "    <tr>\n",
       "      <th>3</th>\n",
       "      <td>00940276</td>\n",
       "      <td>0</td>\n",
       "      <td>How often do you ride in a car? Do you drive a...</td>\n",
       "      <td>0</td>\n",
       "      <td>Car-free cities</td>\n",
       "      <td>Write an explanatory essay to inform fellow ci...</td>\n",
       "      <td># In German Suburb, Life Goes On Without Cars ...</td>\n",
       "    </tr>\n",
       "    <tr>\n",
       "      <th>4</th>\n",
       "      <td>00c39458</td>\n",
       "      <td>0</td>\n",
       "      <td>Cars are a wonderful thing. They are perhaps o...</td>\n",
       "      <td>0</td>\n",
       "      <td>Car-free cities</td>\n",
       "      <td>Write an explanatory essay to inform fellow ci...</td>\n",
       "      <td># In German Suburb, Life Goes On Without Cars ...</td>\n",
       "    </tr>\n",
       "    <tr>\n",
       "      <th>...</th>\n",
       "      <td>...</td>\n",
       "      <td>...</td>\n",
       "      <td>...</td>\n",
       "      <td>...</td>\n",
       "      <td>...</td>\n",
       "      <td>...</td>\n",
       "      <td>...</td>\n",
       "    </tr>\n",
       "    <tr>\n",
       "      <th>1373</th>\n",
       "      <td>fc66f374</td>\n",
       "      <td>1</td>\n",
       "      <td>The Electoral College was originally establish...</td>\n",
       "      <td>0</td>\n",
       "      <td>Does the electoral college work?</td>\n",
       "      <td>Write a letter to your state senator in which ...</td>\n",
       "      <td># What Is the Electoral College? by the Office...</td>\n",
       "    </tr>\n",
       "    <tr>\n",
       "      <th>1374</th>\n",
       "      <td>fcb87d59</td>\n",
       "      <td>1</td>\n",
       "      <td>Dear senator, I think that the presidential el...</td>\n",
       "      <td>0</td>\n",
       "      <td>Does the electoral college work?</td>\n",
       "      <td>Write a letter to your state senator in which ...</td>\n",
       "      <td># What Is the Electoral College? by the Office...</td>\n",
       "    </tr>\n",
       "    <tr>\n",
       "      <th>1375</th>\n",
       "      <td>fcd93e2d</td>\n",
       "      <td>1</td>\n",
       "      <td>The electoral college is a group of electors t...</td>\n",
       "      <td>0</td>\n",
       "      <td>Does the electoral college work?</td>\n",
       "      <td>Write a letter to your state senator in which ...</td>\n",
       "      <td># What Is the Electoral College? by the Office...</td>\n",
       "    </tr>\n",
       "    <tr>\n",
       "      <th>1376</th>\n",
       "      <td>fcfe84cb</td>\n",
       "      <td>1</td>\n",
       "      <td>An electoral College compromises between elect...</td>\n",
       "      <td>0</td>\n",
       "      <td>Does the electoral college work?</td>\n",
       "      <td>Write a letter to your state senator in which ...</td>\n",
       "      <td># What Is the Electoral College? by the Office...</td>\n",
       "    </tr>\n",
       "    <tr>\n",
       "      <th>1377</th>\n",
       "      <td>fe6ff9a5</td>\n",
       "      <td>1</td>\n",
       "      <td>There has been a fuss about the Elector Colleg...</td>\n",
       "      <td>0</td>\n",
       "      <td>Does the electoral college work?</td>\n",
       "      <td>Write a letter to your state senator in which ...</td>\n",
       "      <td># What Is the Electoral College? by the Office...</td>\n",
       "    </tr>\n",
       "  </tbody>\n",
       "</table>\n",
       "<p>1378 rows × 7 columns</p>\n",
       "</div>"
      ],
      "text/plain": [
       "            id  prompt_id                                               text   \n",
       "0     0059830c          0  Cars. Cars have been around since they became ...  \\\n",
       "1     005db917          0  Transportation is a large necessity in most co...   \n",
       "2     008f63e3          0  \"America's love affair with it's vehicles seem...   \n",
       "3     00940276          0  How often do you ride in a car? Do you drive a...   \n",
       "4     00c39458          0  Cars are a wonderful thing. They are perhaps o...   \n",
       "...        ...        ...                                                ...   \n",
       "1373  fc66f374          1  The Electoral College was originally establish...   \n",
       "1374  fcb87d59          1  Dear senator, I think that the presidential el...   \n",
       "1375  fcd93e2d          1  The electoral college is a group of electors t...   \n",
       "1376  fcfe84cb          1  An electoral College compromises between elect...   \n",
       "1377  fe6ff9a5          1  There has been a fuss about the Elector Colleg...   \n",
       "\n",
       "      generated                       prompt_name   \n",
       "0             0                   Car-free cities  \\\n",
       "1             0                   Car-free cities   \n",
       "2             0                   Car-free cities   \n",
       "3             0                   Car-free cities   \n",
       "4             0                   Car-free cities   \n",
       "...         ...                               ...   \n",
       "1373          0  Does the electoral college work?   \n",
       "1374          0  Does the electoral college work?   \n",
       "1375          0  Does the electoral college work?   \n",
       "1376          0  Does the electoral college work?   \n",
       "1377          0  Does the electoral college work?   \n",
       "\n",
       "                                           instructions   \n",
       "0     Write an explanatory essay to inform fellow ci...  \\\n",
       "1     Write an explanatory essay to inform fellow ci...   \n",
       "2     Write an explanatory essay to inform fellow ci...   \n",
       "3     Write an explanatory essay to inform fellow ci...   \n",
       "4     Write an explanatory essay to inform fellow ci...   \n",
       "...                                                 ...   \n",
       "1373  Write a letter to your state senator in which ...   \n",
       "1374  Write a letter to your state senator in which ...   \n",
       "1375  Write a letter to your state senator in which ...   \n",
       "1376  Write a letter to your state senator in which ...   \n",
       "1377  Write a letter to your state senator in which ...   \n",
       "\n",
       "                                            source_text  \n",
       "0     # In German Suburb, Life Goes On Without Cars ...  \n",
       "1     # In German Suburb, Life Goes On Without Cars ...  \n",
       "2     # In German Suburb, Life Goes On Without Cars ...  \n",
       "3     # In German Suburb, Life Goes On Without Cars ...  \n",
       "4     # In German Suburb, Life Goes On Without Cars ...  \n",
       "...                                                 ...  \n",
       "1373  # What Is the Electoral College? by the Office...  \n",
       "1374  # What Is the Electoral College? by the Office...  \n",
       "1375  # What Is the Electoral College? by the Office...  \n",
       "1376  # What Is the Electoral College? by the Office...  \n",
       "1377  # What Is the Electoral College? by the Office...  \n",
       "\n",
       "[1378 rows x 7 columns]"
      ]
     },
     "execution_count": 10,
     "metadata": {},
     "output_type": "execute_result"
    }
   ],
   "source": [
    "train_data"
   ]
  },
  {
   "cell_type": "code",
   "execution_count": 11,
   "id": "634c38f4",
   "metadata": {
    "scrolled": true
   },
   "outputs": [
    {
     "data": {
      "text/plain": [
       "id              0\n",
       "prompt_id       0\n",
       "text            0\n",
       "generated       0\n",
       "prompt_name     0\n",
       "instructions    0\n",
       "source_text     0\n",
       "dtype: int64"
      ]
     },
     "execution_count": 11,
     "metadata": {},
     "output_type": "execute_result"
    }
   ],
   "source": [
    "train_data.isna().sum()"
   ]
  },
  {
   "cell_type": "code",
   "execution_count": 12,
   "id": "2b563b8a",
   "metadata": {
    "scrolled": true
   },
   "outputs": [
    {
     "name": "stdout",
     "output_type": "stream",
     "text": [
      "<class 'pandas.core.frame.DataFrame'>\n",
      "RangeIndex: 1378 entries, 0 to 1377\n",
      "Data columns (total 7 columns):\n",
      " #   Column        Non-Null Count  Dtype \n",
      "---  ------        --------------  ----- \n",
      " 0   id            1378 non-null   object\n",
      " 1   prompt_id     1378 non-null   int64 \n",
      " 2   text          1378 non-null   object\n",
      " 3   generated     1378 non-null   int64 \n",
      " 4   prompt_name   1378 non-null   object\n",
      " 5   instructions  1378 non-null   object\n",
      " 6   source_text   1378 non-null   object\n",
      "dtypes: int64(2), object(5)\n",
      "memory usage: 75.5+ KB\n"
     ]
    }
   ],
   "source": [
    "train_data.info()"
   ]
  },
  {
   "cell_type": "code",
   "execution_count": 13,
   "id": "a1bfb393",
   "metadata": {},
   "outputs": [
    {
     "data": {
      "text/plain": [
       "Index(['id', 'prompt_id', 'text', 'generated', 'prompt_name', 'instructions',\n",
       "       'source_text'],\n",
       "      dtype='object')"
      ]
     },
     "execution_count": 13,
     "metadata": {},
     "output_type": "execute_result"
    }
   ],
   "source": [
    "train_data.columns"
   ]
  },
  {
   "cell_type": "code",
   "execution_count": 14,
   "id": "5d13d21c",
   "metadata": {},
   "outputs": [
    {
     "data": {
      "text/html": [
       "<div>\n",
       "<style scoped>\n",
       "    .dataframe tbody tr th:only-of-type {\n",
       "        vertical-align: middle;\n",
       "    }\n",
       "\n",
       "    .dataframe tbody tr th {\n",
       "        vertical-align: top;\n",
       "    }\n",
       "\n",
       "    .dataframe thead th {\n",
       "        text-align: right;\n",
       "    }\n",
       "</style>\n",
       "<table border=\"1\" class=\"dataframe\">\n",
       "  <thead>\n",
       "    <tr style=\"text-align: right;\">\n",
       "      <th></th>\n",
       "      <th>id</th>\n",
       "      <th>prompt_id</th>\n",
       "      <th>text</th>\n",
       "      <th>generated</th>\n",
       "      <th>prompt_name</th>\n",
       "      <th>instructions</th>\n",
       "      <th>source_text</th>\n",
       "    </tr>\n",
       "  </thead>\n",
       "  <tbody>\n",
       "    <tr>\n",
       "      <th>0</th>\n",
       "      <td>0059830c</td>\n",
       "      <td>0</td>\n",
       "      <td>Cars. Cars have been around since they became ...</td>\n",
       "      <td>0</td>\n",
       "      <td>Car-free cities</td>\n",
       "      <td>Write an explanatory essay to inform fellow ci...</td>\n",
       "      <td># In German Suburb, Life Goes On Without Cars ...</td>\n",
       "    </tr>\n",
       "    <tr>\n",
       "      <th>1</th>\n",
       "      <td>005db917</td>\n",
       "      <td>0</td>\n",
       "      <td>Transportation is a large necessity in most co...</td>\n",
       "      <td>0</td>\n",
       "      <td>Car-free cities</td>\n",
       "      <td>Write an explanatory essay to inform fellow ci...</td>\n",
       "      <td># In German Suburb, Life Goes On Without Cars ...</td>\n",
       "    </tr>\n",
       "    <tr>\n",
       "      <th>2</th>\n",
       "      <td>008f63e3</td>\n",
       "      <td>0</td>\n",
       "      <td>\"America's love affair with it's vehicles seem...</td>\n",
       "      <td>0</td>\n",
       "      <td>Car-free cities</td>\n",
       "      <td>Write an explanatory essay to inform fellow ci...</td>\n",
       "      <td># In German Suburb, Life Goes On Without Cars ...</td>\n",
       "    </tr>\n",
       "    <tr>\n",
       "      <th>3</th>\n",
       "      <td>00940276</td>\n",
       "      <td>0</td>\n",
       "      <td>How often do you ride in a car? Do you drive a...</td>\n",
       "      <td>0</td>\n",
       "      <td>Car-free cities</td>\n",
       "      <td>Write an explanatory essay to inform fellow ci...</td>\n",
       "      <td># In German Suburb, Life Goes On Without Cars ...</td>\n",
       "    </tr>\n",
       "    <tr>\n",
       "      <th>4</th>\n",
       "      <td>00c39458</td>\n",
       "      <td>0</td>\n",
       "      <td>Cars are a wonderful thing. They are perhaps o...</td>\n",
       "      <td>0</td>\n",
       "      <td>Car-free cities</td>\n",
       "      <td>Write an explanatory essay to inform fellow ci...</td>\n",
       "      <td># In German Suburb, Life Goes On Without Cars ...</td>\n",
       "    </tr>\n",
       "  </tbody>\n",
       "</table>\n",
       "</div>"
      ],
      "text/plain": [
       "         id  prompt_id                                               text   \n",
       "0  0059830c          0  Cars. Cars have been around since they became ...  \\\n",
       "1  005db917          0  Transportation is a large necessity in most co...   \n",
       "2  008f63e3          0  \"America's love affair with it's vehicles seem...   \n",
       "3  00940276          0  How often do you ride in a car? Do you drive a...   \n",
       "4  00c39458          0  Cars are a wonderful thing. They are perhaps o...   \n",
       "\n",
       "   generated      prompt_name   \n",
       "0          0  Car-free cities  \\\n",
       "1          0  Car-free cities   \n",
       "2          0  Car-free cities   \n",
       "3          0  Car-free cities   \n",
       "4          0  Car-free cities   \n",
       "\n",
       "                                        instructions   \n",
       "0  Write an explanatory essay to inform fellow ci...  \\\n",
       "1  Write an explanatory essay to inform fellow ci...   \n",
       "2  Write an explanatory essay to inform fellow ci...   \n",
       "3  Write an explanatory essay to inform fellow ci...   \n",
       "4  Write an explanatory essay to inform fellow ci...   \n",
       "\n",
       "                                         source_text  \n",
       "0  # In German Suburb, Life Goes On Without Cars ...  \n",
       "1  # In German Suburb, Life Goes On Without Cars ...  \n",
       "2  # In German Suburb, Life Goes On Without Cars ...  \n",
       "3  # In German Suburb, Life Goes On Without Cars ...  \n",
       "4  # In German Suburb, Life Goes On Without Cars ...  "
      ]
     },
     "execution_count": 14,
     "metadata": {},
     "output_type": "execute_result"
    }
   ],
   "source": [
    "train_data.head()"
   ]
  },
  {
   "cell_type": "code",
   "execution_count": 15,
   "id": "266ec28d",
   "metadata": {},
   "outputs": [],
   "source": [
    "import nltk\n",
    "from nltk.stem import WordNetLemmatizer\n",
    "from nltk.stem import PorterStemmer\n",
    "from nltk.corpus import stopwords\n",
    "import string"
   ]
  },
  {
   "cell_type": "code",
   "execution_count": 16,
   "id": "c30dd138",
   "metadata": {},
   "outputs": [
    {
     "name": "stdout",
     "output_type": "stream",
     "text": [
      "!\"#$%&'()*+,-./:;<=>?@[\\]^_`{|}~\n"
     ]
    }
   ],
   "source": [
    "print(string.punctuation)"
   ]
  },
  {
   "cell_type": "code",
   "execution_count": 18,
   "id": "0c5e1780",
   "metadata": {},
   "outputs": [
    {
     "ename": "AttributeError",
     "evalue": "'WordListCorpusReader' object has no attribute 'stopwords'",
     "output_type": "error",
     "traceback": [
      "\u001b[0;31m---------------------------------------------------------------------------\u001b[0m",
      "\u001b[0;31mAttributeError\u001b[0m                            Traceback (most recent call last)",
      "Cell \u001b[0;32mIn[18], line 1\u001b[0m\n\u001b[0;32m----> 1\u001b[0m \u001b[38;5;28mprint\u001b[39m(\u001b[43mstopwords\u001b[49m\u001b[38;5;241;43m.\u001b[39;49m\u001b[43mstopwords\u001b[49m)\n",
      "\u001b[0;31mAttributeError\u001b[0m: 'WordListCorpusReader' object has no attribute 'stopwords'"
     ]
    }
   ],
   "source": [
    "print(stopwords.stopwords)"
   ]
  },
  {
   "cell_type": "code",
   "execution_count": null,
   "id": "0efad362",
   "metadata": {},
   "outputs": [],
   "source": []
  }
 ],
 "metadata": {
  "kernelspec": {
   "display_name": "Python 3 (ipykernel)",
   "language": "python",
   "name": "python3"
  },
  "language_info": {
   "codemirror_mode": {
    "name": "ipython",
    "version": 3
   },
   "file_extension": ".py",
   "mimetype": "text/x-python",
   "name": "python",
   "nbconvert_exporter": "python",
   "pygments_lexer": "ipython3",
   "version": "3.10.11"
  }
 },
 "nbformat": 4,
 "nbformat_minor": 5
}
